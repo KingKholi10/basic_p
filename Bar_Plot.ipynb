#!/usr/bin/env python
# coding: utf-8

# In[ ]:


import numpy as np
import pandas as pd
import seaborn as sns
import matplotlib.pyplot as plt

# Load data set

Flower =sns.load_dataset("iris")

print (Flower) 

# draw a line plot

sns.barplot(x='species', y='sepal_width', data=Flower, order=['setosa','virginica', 'versicolor species'], color='red')

# Labeling

plt.title("bar plot")



plt.show


# In[1]:


import numpy as np
import pandas as pd
import seaborn as sns
import matplotlib.pyplot as plt

# Load data set

Flower =sns.load_dataset("iris")

# print (Flower) 

# draw a line plot


# removal bar
sns.barplot(x='species', y='sepal_width', data=Flower, ci=None)

# Labeling

plt.title("bar plot")


plt.show


# In[2]:


import numpy as np
import pandas as pd
import seaborn as sns
import matplotlib.pyplot as plt

# Load data set

Flower =sns.load_dataset("iris")

# print (Flower) 

# draw a line plot


# removal bar
sns.barplot(x='species', y='sepal_width', data=Flower, ci=None, palette='pastel')

# Labeling

plt.title("bar plot")


plt.show


# In[ ]:




